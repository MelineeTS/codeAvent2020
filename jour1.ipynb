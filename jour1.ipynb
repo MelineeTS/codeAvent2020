{
 "cells": [
  {
   "cell_type": "code",
   "execution_count": 19,
   "metadata": {},
   "outputs": [],
   "source": [
    "path = \"./donnees.txt\"\n",
    "names_file = open(path, 'r')\n",
    "list = names_file.readlines()"
   ]
  },
  {
   "cell_type": "code",
   "execution_count": 28,
   "metadata": {},
   "outputs": [],
   "source": [
    "listPropre = [];\n",
    "for mot in list:\n",
    "    listPropre.append(int(mot.replace(\"\\n\", \"\")))"
   ]
  },
  {
   "cell_type": "code",
   "execution_count": 34,
   "metadata": {},
   "outputs": [
    {
     "name": "stdout",
     "output_type": "stream",
     "text": [
      "259716\n",
      "259716\n"
     ]
    }
   ],
   "source": [
    "for n in listPropre:\n",
    "    for i in listPropre:\n",
    "        if i+n==2020:\n",
    "            print(i*n)\n",
    "            break"
   ]
  },
  {
   "cell_type": "code",
   "execution_count": 43,
   "metadata": {},
   "outputs": [
    {
     "name": "stdout",
     "output_type": "stream",
     "text": [
      "120637440\n"
     ]
    }
   ],
   "source": [
    "for i in range(0, len(listPropre)):\n",
    "    for j in range(i, len(listPropre)):\n",
    "            for k in range(j, len(listPropre)):\n",
    "                    a=listPropre[i]\n",
    "                    b=listPropre[j]\n",
    "                    c=listPropre[k]\n",
    "                    if a+b+c==2020:\n",
    "                        print(a*b*c)\n",
    "                        break"
   ]
  }
 ],
 "metadata": {
  "kernelspec": {
   "display_name": "Python 3",
   "language": "python",
   "name": "python3"
  },
  "language_info": {
   "codemirror_mode": {
    "name": "ipython",
    "version": 3
   },
   "file_extension": ".py",
   "mimetype": "text/x-python",
   "name": "python",
   "nbconvert_exporter": "python",
   "pygments_lexer": "ipython3",
   "version": "3.7.6"
  }
 },
 "nbformat": 4,
 "nbformat_minor": 4
}
